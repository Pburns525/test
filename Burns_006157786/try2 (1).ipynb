{
 "cells": [
  {
   "cell_type": "code",
   "execution_count": 1,
   "metadata": {},
   "outputs": [],
   "source": [
    "import pandas as pd\n",
    "import datetime\n",
    "from os import listdir\n",
    "from os.path import isfile, join\n",
    "import glob\n",
    "import re\n",
    "import seaborn as sns\n",
    "import matplotlib.pyplot as plt\n",
    "import statsmodels.api as sm\n",
    "import sklearn as sk\n",
    "from sklearn.model_selection import train_test_split \n",
    "from sklearn.linear_model import LinearRegression\n",
    "from sklearn import metrics\n",
    "from scipy import stats\n",
    "from scipy.stats import ttest_ind_from_stats\n",
    "from scipy.stats import ttest_ind\n",
    "from statsmodels.stats.diagnostic import het_breuschpagan\n",
    "import numpy as np\n",
    "import pylab\n",
    "import os\n",
    "\n",
    "%matplotlib inline"
   ]
  },
  {
   "cell_type": "code",
   "execution_count": 4,
   "metadata": {},
   "outputs": [
    {
     "name": "stdout",
     "output_type": "stream",
     "text": [
      "C:\\Users\\pburn\n"
     ]
    },
    {
     "ename": "FileNotFoundError",
     "evalue": "[Errno 2] File b'.../Burns_006157786/Burns_006157786.csv' does not exist: b'.../Burns_006157786/Burns_006157786.csv'",
     "output_type": "error",
     "traceback": [
      "\u001b[1;31m---------------------------------------------------------------------------\u001b[0m",
      "\u001b[1;31mFileNotFoundError\u001b[0m                         Traceback (most recent call last)",
      "\u001b[1;32m<ipython-input-4-e46cd43dc7d9>\u001b[0m in \u001b[0;36m<module>\u001b[1;34m\u001b[0m\n\u001b[0;32m      2\u001b[0m \u001b[1;33m\u001b[0m\u001b[0m\n\u001b[0;32m      3\u001b[0m \u001b[1;33m\u001b[0m\u001b[0m\n\u001b[1;32m----> 4\u001b[1;33m \u001b[0mdf\u001b[0m \u001b[1;33m=\u001b[0m \u001b[0mpd\u001b[0m\u001b[1;33m.\u001b[0m\u001b[0mread_csv\u001b[0m\u001b[1;33m(\u001b[0m\u001b[1;34m\".../Burns_006157786/Burns_006157786.csv\"\u001b[0m\u001b[1;33m,\u001b[0m \u001b[0mencoding\u001b[0m\u001b[1;33m=\u001b[0m\u001b[1;34m'latin-1'\u001b[0m\u001b[1;33m)\u001b[0m\u001b[1;33m\u001b[0m\u001b[1;33m\u001b[0m\u001b[0m\n\u001b[0m\u001b[0;32m      5\u001b[0m \u001b[1;31m#df = pd.read_csv(\"Burns_006157786/dataset.csv\", encoding='latin-1')\u001b[0m\u001b[1;33m\u001b[0m\u001b[1;33m\u001b[0m\u001b[1;33m\u001b[0m\u001b[0m\n\u001b[0;32m      6\u001b[0m \u001b[0mdf\u001b[0m \u001b[1;33m=\u001b[0m \u001b[0mdf\u001b[0m\u001b[1;33m.\u001b[0m\u001b[0mloc\u001b[0m\u001b[1;33m[\u001b[0m\u001b[0mdf\u001b[0m\u001b[1;33m[\u001b[0m\u001b[1;34m'state'\u001b[0m\u001b[1;33m]\u001b[0m\u001b[1;33m.\u001b[0m\u001b[0misin\u001b[0m\u001b[1;33m(\u001b[0m\u001b[1;33m[\u001b[0m\u001b[1;34m\"Wisconsin\"\u001b[0m\u001b[1;33m,\u001b[0m\u001b[1;34m\"Illinois\"\u001b[0m\u001b[1;33m,\u001b[0m\u001b[1;34m\"Iowa\"\u001b[0m\u001b[1;33m]\u001b[0m\u001b[1;33m)\u001b[0m\u001b[1;33m]\u001b[0m\u001b[1;33m\u001b[0m\u001b[1;33m\u001b[0m\u001b[0m\n",
      "\u001b[1;32m~\\Anaconda3\\lib\\site-packages\\pandas\\io\\parsers.py\u001b[0m in \u001b[0;36mparser_f\u001b[1;34m(filepath_or_buffer, sep, delimiter, header, names, index_col, usecols, squeeze, prefix, mangle_dupe_cols, dtype, engine, converters, true_values, false_values, skipinitialspace, skiprows, skipfooter, nrows, na_values, keep_default_na, na_filter, verbose, skip_blank_lines, parse_dates, infer_datetime_format, keep_date_col, date_parser, dayfirst, iterator, chunksize, compression, thousands, decimal, lineterminator, quotechar, quoting, doublequote, escapechar, comment, encoding, dialect, tupleize_cols, error_bad_lines, warn_bad_lines, delim_whitespace, low_memory, memory_map, float_precision)\u001b[0m\n\u001b[0;32m    700\u001b[0m                     skip_blank_lines=skip_blank_lines)\n\u001b[0;32m    701\u001b[0m \u001b[1;33m\u001b[0m\u001b[0m\n\u001b[1;32m--> 702\u001b[1;33m         \u001b[1;32mreturn\u001b[0m \u001b[0m_read\u001b[0m\u001b[1;33m(\u001b[0m\u001b[0mfilepath_or_buffer\u001b[0m\u001b[1;33m,\u001b[0m \u001b[0mkwds\u001b[0m\u001b[1;33m)\u001b[0m\u001b[1;33m\u001b[0m\u001b[1;33m\u001b[0m\u001b[0m\n\u001b[0m\u001b[0;32m    703\u001b[0m \u001b[1;33m\u001b[0m\u001b[0m\n\u001b[0;32m    704\u001b[0m     \u001b[0mparser_f\u001b[0m\u001b[1;33m.\u001b[0m\u001b[0m__name__\u001b[0m \u001b[1;33m=\u001b[0m \u001b[0mname\u001b[0m\u001b[1;33m\u001b[0m\u001b[1;33m\u001b[0m\u001b[0m\n",
      "\u001b[1;32m~\\Anaconda3\\lib\\site-packages\\pandas\\io\\parsers.py\u001b[0m in \u001b[0;36m_read\u001b[1;34m(filepath_or_buffer, kwds)\u001b[0m\n\u001b[0;32m    427\u001b[0m \u001b[1;33m\u001b[0m\u001b[0m\n\u001b[0;32m    428\u001b[0m     \u001b[1;31m# Create the parser.\u001b[0m\u001b[1;33m\u001b[0m\u001b[1;33m\u001b[0m\u001b[1;33m\u001b[0m\u001b[0m\n\u001b[1;32m--> 429\u001b[1;33m     \u001b[0mparser\u001b[0m \u001b[1;33m=\u001b[0m \u001b[0mTextFileReader\u001b[0m\u001b[1;33m(\u001b[0m\u001b[0mfilepath_or_buffer\u001b[0m\u001b[1;33m,\u001b[0m \u001b[1;33m**\u001b[0m\u001b[0mkwds\u001b[0m\u001b[1;33m)\u001b[0m\u001b[1;33m\u001b[0m\u001b[1;33m\u001b[0m\u001b[0m\n\u001b[0m\u001b[0;32m    430\u001b[0m \u001b[1;33m\u001b[0m\u001b[0m\n\u001b[0;32m    431\u001b[0m     \u001b[1;32mif\u001b[0m \u001b[0mchunksize\u001b[0m \u001b[1;32mor\u001b[0m \u001b[0miterator\u001b[0m\u001b[1;33m:\u001b[0m\u001b[1;33m\u001b[0m\u001b[1;33m\u001b[0m\u001b[0m\n",
      "\u001b[1;32m~\\Anaconda3\\lib\\site-packages\\pandas\\io\\parsers.py\u001b[0m in \u001b[0;36m__init__\u001b[1;34m(self, f, engine, **kwds)\u001b[0m\n\u001b[0;32m    893\u001b[0m             \u001b[0mself\u001b[0m\u001b[1;33m.\u001b[0m\u001b[0moptions\u001b[0m\u001b[1;33m[\u001b[0m\u001b[1;34m'has_index_names'\u001b[0m\u001b[1;33m]\u001b[0m \u001b[1;33m=\u001b[0m \u001b[0mkwds\u001b[0m\u001b[1;33m[\u001b[0m\u001b[1;34m'has_index_names'\u001b[0m\u001b[1;33m]\u001b[0m\u001b[1;33m\u001b[0m\u001b[1;33m\u001b[0m\u001b[0m\n\u001b[0;32m    894\u001b[0m \u001b[1;33m\u001b[0m\u001b[0m\n\u001b[1;32m--> 895\u001b[1;33m         \u001b[0mself\u001b[0m\u001b[1;33m.\u001b[0m\u001b[0m_make_engine\u001b[0m\u001b[1;33m(\u001b[0m\u001b[0mself\u001b[0m\u001b[1;33m.\u001b[0m\u001b[0mengine\u001b[0m\u001b[1;33m)\u001b[0m\u001b[1;33m\u001b[0m\u001b[1;33m\u001b[0m\u001b[0m\n\u001b[0m\u001b[0;32m    896\u001b[0m \u001b[1;33m\u001b[0m\u001b[0m\n\u001b[0;32m    897\u001b[0m     \u001b[1;32mdef\u001b[0m \u001b[0mclose\u001b[0m\u001b[1;33m(\u001b[0m\u001b[0mself\u001b[0m\u001b[1;33m)\u001b[0m\u001b[1;33m:\u001b[0m\u001b[1;33m\u001b[0m\u001b[1;33m\u001b[0m\u001b[0m\n",
      "\u001b[1;32m~\\Anaconda3\\lib\\site-packages\\pandas\\io\\parsers.py\u001b[0m in \u001b[0;36m_make_engine\u001b[1;34m(self, engine)\u001b[0m\n\u001b[0;32m   1120\u001b[0m     \u001b[1;32mdef\u001b[0m \u001b[0m_make_engine\u001b[0m\u001b[1;33m(\u001b[0m\u001b[0mself\u001b[0m\u001b[1;33m,\u001b[0m \u001b[0mengine\u001b[0m\u001b[1;33m=\u001b[0m\u001b[1;34m'c'\u001b[0m\u001b[1;33m)\u001b[0m\u001b[1;33m:\u001b[0m\u001b[1;33m\u001b[0m\u001b[1;33m\u001b[0m\u001b[0m\n\u001b[0;32m   1121\u001b[0m         \u001b[1;32mif\u001b[0m \u001b[0mengine\u001b[0m \u001b[1;33m==\u001b[0m \u001b[1;34m'c'\u001b[0m\u001b[1;33m:\u001b[0m\u001b[1;33m\u001b[0m\u001b[1;33m\u001b[0m\u001b[0m\n\u001b[1;32m-> 1122\u001b[1;33m             \u001b[0mself\u001b[0m\u001b[1;33m.\u001b[0m\u001b[0m_engine\u001b[0m \u001b[1;33m=\u001b[0m \u001b[0mCParserWrapper\u001b[0m\u001b[1;33m(\u001b[0m\u001b[0mself\u001b[0m\u001b[1;33m.\u001b[0m\u001b[0mf\u001b[0m\u001b[1;33m,\u001b[0m \u001b[1;33m**\u001b[0m\u001b[0mself\u001b[0m\u001b[1;33m.\u001b[0m\u001b[0moptions\u001b[0m\u001b[1;33m)\u001b[0m\u001b[1;33m\u001b[0m\u001b[1;33m\u001b[0m\u001b[0m\n\u001b[0m\u001b[0;32m   1123\u001b[0m         \u001b[1;32melse\u001b[0m\u001b[1;33m:\u001b[0m\u001b[1;33m\u001b[0m\u001b[1;33m\u001b[0m\u001b[0m\n\u001b[0;32m   1124\u001b[0m             \u001b[1;32mif\u001b[0m \u001b[0mengine\u001b[0m \u001b[1;33m==\u001b[0m \u001b[1;34m'python'\u001b[0m\u001b[1;33m:\u001b[0m\u001b[1;33m\u001b[0m\u001b[1;33m\u001b[0m\u001b[0m\n",
      "\u001b[1;32m~\\Anaconda3\\lib\\site-packages\\pandas\\io\\parsers.py\u001b[0m in \u001b[0;36m__init__\u001b[1;34m(self, src, **kwds)\u001b[0m\n\u001b[0;32m   1851\u001b[0m         \u001b[0mkwds\u001b[0m\u001b[1;33m[\u001b[0m\u001b[1;34m'usecols'\u001b[0m\u001b[1;33m]\u001b[0m \u001b[1;33m=\u001b[0m \u001b[0mself\u001b[0m\u001b[1;33m.\u001b[0m\u001b[0musecols\u001b[0m\u001b[1;33m\u001b[0m\u001b[1;33m\u001b[0m\u001b[0m\n\u001b[0;32m   1852\u001b[0m \u001b[1;33m\u001b[0m\u001b[0m\n\u001b[1;32m-> 1853\u001b[1;33m         \u001b[0mself\u001b[0m\u001b[1;33m.\u001b[0m\u001b[0m_reader\u001b[0m \u001b[1;33m=\u001b[0m \u001b[0mparsers\u001b[0m\u001b[1;33m.\u001b[0m\u001b[0mTextReader\u001b[0m\u001b[1;33m(\u001b[0m\u001b[0msrc\u001b[0m\u001b[1;33m,\u001b[0m \u001b[1;33m**\u001b[0m\u001b[0mkwds\u001b[0m\u001b[1;33m)\u001b[0m\u001b[1;33m\u001b[0m\u001b[1;33m\u001b[0m\u001b[0m\n\u001b[0m\u001b[0;32m   1854\u001b[0m         \u001b[0mself\u001b[0m\u001b[1;33m.\u001b[0m\u001b[0munnamed_cols\u001b[0m \u001b[1;33m=\u001b[0m \u001b[0mself\u001b[0m\u001b[1;33m.\u001b[0m\u001b[0m_reader\u001b[0m\u001b[1;33m.\u001b[0m\u001b[0munnamed_cols\u001b[0m\u001b[1;33m\u001b[0m\u001b[1;33m\u001b[0m\u001b[0m\n\u001b[0;32m   1855\u001b[0m \u001b[1;33m\u001b[0m\u001b[0m\n",
      "\u001b[1;32mpandas/_libs/parsers.pyx\u001b[0m in \u001b[0;36mpandas._libs.parsers.TextReader.__cinit__\u001b[1;34m()\u001b[0m\n",
      "\u001b[1;32mpandas/_libs/parsers.pyx\u001b[0m in \u001b[0;36mpandas._libs.parsers.TextReader._setup_parser_source\u001b[1;34m()\u001b[0m\n",
      "\u001b[1;31mFileNotFoundError\u001b[0m: [Errno 2] File b'.../Burns_006157786/Burns_006157786.csv' does not exist: b'.../Burns_006157786/Burns_006157786.csv'"
     ]
    }
   ],
   "source": [
    "print(os.getcwd())\n",
    "\n",
    "\n",
    "df = pd.read_csv(\"./Burns_006157786/Burns_006157786.csv\", encoding='latin-1')\n",
    "#df = pd.read_csv(\"Burns_006157786/dataset.csv\", encoding='latin-1')\n",
    "df = df.loc[df['state'].isin([\"Wisconsin\",\"Illinois\",\"Iowa\"])]\n",
    "\n",
    "\n",
    "#df.isnull().any()\n",
    "print(df.describe())\n",
    "df =df.drop(['BLOCKID'], axis=1) #Almost no records actually had values in this column, wont be using this data anyways\n",
    "df = df.dropna()\n",
    "df['Ratio']= df['male_pop'] / (df['male_pop'] + df['female_pop'])\n",
    "print(df.describe())\n",
    "#Only dropped 34 out of 2740 records, so not a super substantial loss of data. Also because these were missing houshold income\n",
    "#data they werent of much use other than looking at distributions of other characteristics \n",
    "#\"C:\\Users\\pburn\\OneDrive\\Documents\\Burns_006157786\\HiData.csv\"\n",
    "\n",
    "\n",
    "\n"
   ]
  },
  {
   "cell_type": "code",
   "execution_count": null,
   "metadata": {},
   "outputs": [],
   "source": [
    "sns.scatterplot(df['married'],df['hi_median'] ,  color='magenta', alpha =.6)\n",
    "plt.title(\"All 3 states\")\n",
    "\n",
    "g = sns.FacetGrid(df, col = \"state\")\n",
    "g.map(sns.scatterplot, \"married\", \"hi_median\", alpha = .6);\n",
    "\n"
   ]
  },
  {
   "cell_type": "code",
   "execution_count": null,
   "metadata": {
    "scrolled": false
   },
   "outputs": [],
   "source": [
    "state = ['Illinois','Wisconsin','Iowa']\n",
    "color = ['gray','blue','green']\n",
    "col = ['pink','lightblue','lightgreen']\n",
    "i=0\n",
    "while(i<3):\n",
    "    print(state[i])\n",
    "    tempdf = df.loc[df['state'].isin([state[i]])]\n",
    "    regressor = LinearRegression()  \n",
    "    xdata = tempdf['married'].values.reshape(-1,1)\n",
    "    ydata = tempdf['hi_median'].values.reshape(-1,1)\n",
    "    regressor.fit(xdata,ydata)\n",
    "    print('Intercept:',regressor.intercept_)\n",
    "    print('Slope:',regressor.coef_)\n",
    "    y_pred = regressor.predict(xdata)\n",
    "    \n",
    "    #plt.scatter(xdata, ydata,  color=col)\n",
    "    sns.scatterplot(tempdf['married'], tempdf['hi_median'],color=col[i],alpha=.7)\n",
    "    plt.title(state[i])\n",
    "    axes = plt.gca()\n",
    "\n",
    "    axes.set_ylim([0,200000])\n",
    "    axes.set_xlim([-.05,.9])\n",
    "    plt.plot(xdata, y_pred, color='red', linewidth=1)\n",
    "    print('_______________________________________________________________________')\n",
    "    plt.show()\n",
    "    print('_______________________________________________________________________')\n",
    "    sm.stats.diagnostic.het_breuschpagan(xdata,exog_het = ydata)\n",
    "    res = ydata - y_pred\n",
    "    bp_test = het_breuschpagan(res,xdata)\n",
    "    print(\"BP Test Results:\", bp_test)\n",
    "    print('Shapiro Test Results:',stats.shapiro(xdata),\"\\n\\n\")\n",
    "    i= i+1\n",
    "    \n",
    "\n",
    "i=0\n",
    "while(i<3):\n",
    "    plt.figure()\n",
    "    tempdf = df.loc[df['state'].isin([state[i]])]\n",
    "    xdata = tempdf['married'].values.reshape(-1,1)\n",
    "    ydata = tempdf['hi_median'].values.reshape(-1,1)\n",
    "    sns.residplot(x=xdata,y=ydata, data=tempdf, color =col[i])\n",
    "    plt.xlabel(\"Fitted values\")\n",
    "    plt.title(state[i] +' Residual plot')\n",
    "    i= i+1\n"
   ]
  },
  {
   "cell_type": "code",
   "execution_count": null,
   "metadata": {},
   "outputs": [],
   "source": [
    "regressor = LinearRegression()  \n",
    "xdata = df['married'].values.reshape(-1,1)\n",
    "ydata = df['hi_median'].values.reshape(-1,1)\n",
    "regressor.fit(xdata,ydata)\n"
   ]
  },
  {
   "cell_type": "code",
   "execution_count": null,
   "metadata": {},
   "outputs": [],
   "source": [
    "\n"
   ]
  },
  {
   "cell_type": "code",
   "execution_count": null,
   "metadata": {},
   "outputs": [],
   "source": [
    "y_pred = regressor.predict(xdata)\n",
    "sns.scatterplot(df['married'], df['hi_median'],color='red',alpha=.5)\n",
    "#plt.scatter(xdata, ydata,  color='lightgreen')\n",
    "plt.plot(xdata, y_pred, color='black', linewidth=1.5)\n",
    "plt.title(\"All 3 states\")\n",
    "plt.show()\n"
   ]
  },
  {
   "cell_type": "code",
   "execution_count": null,
   "metadata": {},
   "outputs": [],
   "source": [
    "sns.residplot(x=xdata,y=ydata, data=df, color ='red')\n",
    "plt.xlabel(\"Fitted values\")\n",
    "plt.title('Residual plot all 3 states')\n",
    "\n"
   ]
  },
  {
   "cell_type": "code",
   "execution_count": null,
   "metadata": {},
   "outputs": [],
   "source": [
    "sm.stats.diagnostic.het_breuschpagan(xdata,exog_het = ydata)\n",
    "res = ydata - y_pred\n",
    "bp_test = het_breuschpagan(res,xdata)\n",
    "print(bp_test)\n",
    "#Because the P-value is less than .05, this indicates heteroscedasticity \n"
   ]
  },
  {
   "cell_type": "code",
   "execution_count": null,
   "metadata": {},
   "outputs": [],
   "source": [
    "stats.shapiro(xdata)\n",
    "#not a normal data set but it doesn't have to be"
   ]
  },
  {
   "cell_type": "code",
   "execution_count": null,
   "metadata": {},
   "outputs": [],
   "source": [
    "#qq = sm.qqplot(res, stats.t, fit=True, line='45')\n",
    "#sm.qqplot(res, loc = 20, scale = 5 ,  line='45', color='green')\n",
    "mod_fit = sm.OLS(ydata, xdata).fit()\n",
    "res = mod_fit.resid # residuals\n",
    "\n",
    "fig = sm.qqplot(res,line='s')\n",
    "plt.title(\"qq plot\")\n",
    "\n",
    "\n"
   ]
  },
  {
   "cell_type": "code",
   "execution_count": null,
   "metadata": {},
   "outputs": [],
   "source": [
    "#The qqplot suggests that the data is skewed to the right. This is expected as we know there are areas\n",
    "# with extremely wealthy people concentrated in rich neighborhoods"
   ]
  },
  {
   "cell_type": "code",
   "execution_count": null,
   "metadata": {},
   "outputs": [],
   "source": []
  },
  {
   "cell_type": "code",
   "execution_count": null,
   "metadata": {},
   "outputs": [],
   "source": [
    "bp_test = het_breuschpagan(res,xdata)\n",
    "print(\"BP Test Results:\", bp_test)\n",
    "print('Shapiro Test Results:',stats.shapiro(xdata),\"\\n\\n\")"
   ]
  },
  {
   "cell_type": "code",
   "execution_count": null,
   "metadata": {},
   "outputs": [],
   "source": []
  },
  {
   "cell_type": "code",
   "execution_count": null,
   "metadata": {},
   "outputs": [],
   "source": [
    "#Significance test\n",
    "\n",
    "#IL\n",
    "tempdf = df.loc[df['state'].isin(['Illinois'])]\n",
    "xdata = tempdf['married'].values.reshape(-1,1)\n",
    "xdata = sm.add_constant(xdata)\n",
    "ydata = tempdf['hi_median'].values.reshape(-1,1)\n",
    "mod_fitIL = sm.OLS(ydata, xdata).fit()\n",
    "y_predIL = mod_fitIL.predict(xdata)\n",
    "resIL = mod_fitIL.resid # residuals\n",
    "\n",
    "#IO\n",
    "tempdf = df.loc[df['state'].isin(['Iowa'])]\n",
    "xdata = tempdf['married'].values.reshape(-1,1)\n",
    "xdata = sm.add_constant(xdata)\n",
    "ydata = tempdf['hi_median'].values.reshape(-1,1)\n",
    "mod_fitIO = sm.OLS(ydata, xdata).fit()\n",
    "y_predIO = mod_fitIO.predict(xdata)\n",
    "resIO = mod_fitIO.resid # residuals\n",
    "\n",
    "#WI\n",
    "tempdf = df.loc[df['state'].isin(['Wisconsin'])]\n",
    "xdata = tempdf['married'].values.reshape(-1,1)\n",
    "xdata = sm.add_constant(xdata)\n",
    "ydata = tempdf['hi_median'].values.reshape(-1,1)\n",
    "mod_fitWI = sm.OLS(ydata, xdata).fit()\n",
    "y_predWI = mod_fitWI.predict(xdata)\n",
    "resWI = mod_fitWI.resid # residuals\n",
    "\n",
    "#notIL (complement)\n",
    "tempdf = df.loc[df['state'].isin(['Wisconsin', 'Iowa'])]\n",
    "xdata = tempdf['married'].values.reshape(-1,1)\n",
    "xdata = sm.add_constant(xdata)\n",
    "ydata = tempdf['hi_median'].values.reshape(-1,1)\n",
    "mod_fitC = sm.OLS(ydata, xdata).fit()\n",
    "y_predC = mod_fitC.predict(xdata)\n",
    "resC = mod_fitC.resid # residuals\n",
    "\n",
    "print(stats.kruskal(y_predIL,y_predIO,y_predWI))\n",
    "#Pvalue is way less than .05, definitely a significant difference. This suggests that the difference in predicted y values\n",
    "stats.kruskal(resIL,resIO,resWI)\n",
    "\n",
    "print(mod_fitIL.summary(),mod_fitIO.summary(),mod_fitWI.summary(),mod_fitC.summary())"
   ]
  },
  {
   "cell_type": "code",
   "execution_count": null,
   "metadata": {},
   "outputs": [],
   "source": [
    "print('IL',mod_fitIL.params)\n",
    "print('IA',mod_fitIO.params)\n",
    "print('WI',mod_fitWI.params)\n",
    "\n",
    "print('ALL',mod_fitC.params)\n"
   ]
  },
  {
   "cell_type": "code",
   "execution_count": null,
   "metadata": {},
   "outputs": [],
   "source": [
    "ttest_ind_from_stats(mean1=123959.8, std1=3815.72, nobs1=1571, mean2=91215.8, std2=2989.49, nobs2=1135)"
   ]
  },
  {
   "cell_type": "code",
   "execution_count": null,
   "metadata": {},
   "outputs": [],
   "source": []
  },
  {
   "cell_type": "code",
   "execution_count": null,
   "metadata": {},
   "outputs": [],
   "source": [
    "\n"
   ]
  },
  {
   "cell_type": "code",
   "execution_count": null,
   "metadata": {},
   "outputs": [],
   "source": []
  },
  {
   "cell_type": "code",
   "execution_count": null,
   "metadata": {},
   "outputs": [],
   "source": []
  },
  {
   "cell_type": "code",
   "execution_count": null,
   "metadata": {},
   "outputs": [],
   "source": []
  }
 ],
 "metadata": {
  "kernelspec": {
   "display_name": "Python 3",
   "language": "python",
   "name": "python3"
  },
  "language_info": {
   "codemirror_mode": {
    "name": "ipython",
    "version": 3
   },
   "file_extension": ".py",
   "mimetype": "text/x-python",
   "name": "python",
   "nbconvert_exporter": "python",
   "pygments_lexer": "ipython3",
   "version": "3.7.3"
  }
 },
 "nbformat": 4,
 "nbformat_minor": 2
}
